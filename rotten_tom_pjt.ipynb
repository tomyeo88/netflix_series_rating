{
 "cells": [
  {
   "cell_type": "markdown",
   "id": "2bdd8175-58f3-4f0c-84ca-53e8959c568d",
   "metadata": {},
   "source": [
    "# Rotten Tomatoes PJT"
   ]
  },
  {
   "cell_type": "markdown",
   "id": "7a584df1-8cc2-4010-86a1-50a5cc4e8b53",
   "metadata": {
    "tags": []
   },
   "source": [
    "\n",
    "\n",
    "## In this project, I will be analyzing certified fresh movies at home on Netflix (March 2023) by Rotten Tomatoes.\n",
    "\n",
    "### 1. Scraping the data from Rotten Tomatoes\n",
    "I will scrape netflix movie information from the certified fresh movies page on Rotten Tomatoes.\n",
    "It contains the top fresh movies on netflix certified by Rotten Tomatoes.\n",
    "\n",
    "### 2. Save the data in pandas dataframe, and clean the data\n",
    "I will then save the scraped data in a pandas dataframe, and clean the data if necessary.\n",
    "\n",
    "### 3. Perform exploratory data analysis and find some insights from the data\n",
    "I will go over the data, and try to find some insights about the highly rated movies on Netflix."
   ]
  },
  {
   "cell_type": "markdown",
   "id": "c4dca94f-c67a-4fa4-a263-5ef647325e9f",
   "metadata": {},
   "source": [
    "## Scrape the data from Rotten Tomatoes"
   ]
  },
  {
   "cell_type": "code",
   "execution_count": 41,
   "id": "15ad2481-0f08-407b-b46b-fb2c52e03ec2",
   "metadata": {
    "tags": []
   },
   "outputs": [],
   "source": [
    "# import necessary libraries\n",
    "\n",
    "import pandas as pd\n",
    "import numpy as np\n",
    "import time\n",
    "from selenium import webdriver\n",
    "from webdriver_manager.chrome import ChromeDriverManager\n",
    "from selenium.webdriver.common.by import By"
   ]
  },
  {
   "cell_type": "code",
   "execution_count": 4,
   "id": "9f2b1119-a305-4d19-aa09-af0ca25cc1e0",
   "metadata": {},
   "outputs": [
    {
     "name": "stderr",
     "output_type": "stream",
     "text": [
      "[WDM] - Downloading: 100%|█████████████████| 8.84M/8.84M [00:00<00:00, 13.0MB/s]\n",
      "/var/folders/vk/y7f8_5d11n9gb0mnty5f0h9h0000gn/T/ipykernel_60762/1314421596.py:2: DeprecationWarning: executable_path has been deprecated, please pass in a Service object\n",
      "  driver = webdriver.Chrome(ChromeDriverManager().install())\n"
     ]
    }
   ],
   "source": [
    "# install webdriver\n",
    "driver = webdriver.Chrome(ChromeDriverManager().install())"
   ]
  },
  {
   "cell_type": "markdown",
   "id": "f90a2998-238a-4f50-9f59-836a1ed1d347",
   "metadata": {},
   "source": [
    "## Get Elements from the page url"
   ]
  },
  {
   "cell_type": "code",
   "execution_count": 5,
   "id": "5776883e-08fb-435b-974a-39be0b0761cb",
   "metadata": {},
   "outputs": [],
   "source": [
    "# Get Rotten Tomatoes netflix recommendation list page url\n",
    "page_url = \"https://www.rottentomatoes.com/browse/movies_at_home/affiliates:netflix~critics:certified_fresh\"\n",
    "driver.implicitly_wait(5)\n",
    "driver.get(page_url)"
   ]
  },
  {
   "cell_type": "markdown",
   "id": "218e5b7a-72fd-46ea-825d-aa5251469480",
   "metadata": {},
   "source": [
    "## Scroll the page to load all the data"
   ]
  },
  {
   "cell_type": "code",
   "execution_count": 6,
   "id": "08112204-62d6-4947-8619-a1f2e1a079cf",
   "metadata": {
    "tags": []
   },
   "outputs": [],
   "source": [
    "from selenium.common.exceptions import ElementNotInteractableException\n",
    "\n",
    "# Get the total scroll size\n",
    "last_height = driver.execute_script('return document.documentElement.scrollHeight')\n",
    "\n",
    "# Scroll until the scroll size doesn't change\n",
    "\n",
    "while True:\n",
    "    # scroll to the end\n",
    "    driver.execute_script('window.scrollTo(0, document.documentElement.scrollHeight)')\n",
    "    time.sleep(3)\n",
    "    \n",
    "    # click the load more button\n",
    "    try:\n",
    "        button = driver.find_element(By.XPATH, '//button[text()=\"Load more\"]')\n",
    "        button.click()\n",
    "        time.sleep(3)\n",
    "        \n",
    "        # get the current height\n",
    "        now_height = driver.execute_script('return document.documentElement.scrollHeight')\n",
    "            \n",
    "    except ElementNotInteractableException:\n",
    "        # If I can't load more items, break the loop\n",
    "        break\n",
    "\n",
    "        \n",
    "time.sleep(1.5)\n",
    "\n"
   ]
  },
  {
   "cell_type": "markdown",
   "id": "1322d33e-b26d-4ce0-87a1-8cf2871d38a2",
   "metadata": {},
   "source": [
    "## Get all the data from the loaded page"
   ]
  },
  {
   "cell_type": "code",
   "execution_count": 7,
   "id": "54a96400-29eb-4f36-b42d-920573bfbb19",
   "metadata": {
    "tags": []
   },
   "outputs": [],
   "source": [
    "title = driver.find_elements(By.XPATH, \".//span[@data-qa='discovery-media-list-item-title']\")\n",
    "start_date = driver.find_elements(By.XPATH, \".//span[@data-qa='discovery-media-list-item-start-date']\")\n",
    "\n",
    "title_list = []\n",
    "\n",
    "for t in title:\n",
    "    title_list.append(t.text)\n",
    "\n",
    "start_date_list = []\n",
    "\n",
    "for sd in start_date:\n",
    "    start_date_list.append(sd.text)\n"
   ]
  },
  {
   "cell_type": "code",
   "execution_count": 8,
   "id": "3d07020a-dcd0-4923-802d-8bdf0ed1894d",
   "metadata": {
    "tags": []
   },
   "outputs": [],
   "source": [
    "score_pairs = driver.find_elements(By.XPATH, \".//score-pairs\")\n",
    "aud_sentiment = []\n",
    "aud_score = []\n",
    "crit_sentiment = []\n",
    "crit_score = []\n",
    "\n",
    "for pair in score_pairs:\n",
    "    aud_sentiment.append(pair.get_attribute(\"audiencesentiment\"))\n",
    "    aud_score.append(pair.get_attribute(\"audiencescore\"))\n",
    "    crit_sentiment.append(pair.get_attribute(\"criticssentiment\"))\n",
    "    crit_score.append(pair.get_attribute(\"criticsscore\"))\n"
   ]
  },
  {
   "cell_type": "markdown",
   "id": "e4a60ca5-45ae-4ed4-9d02-2af608b2fab1",
   "metadata": {},
   "source": [
    "## Put all the data into a pandas dataframe"
   ]
  },
  {
   "cell_type": "code",
   "execution_count": 9,
   "id": "de6a2c4b-0736-4c3c-b9e7-34054bdcc3f3",
   "metadata": {
    "tags": []
   },
   "outputs": [],
   "source": [
    "rotten_df = pd.DataFrame({'title':title_list, 'start_date':start_date_list, 'aud_sentiment':aud_sentiment,\n",
    "              'aud_score':aud_score, 'crit_sentiment':crit_sentiment,\n",
    "              'crit_score':crit_score})"
   ]
  },
  {
   "cell_type": "markdown",
   "id": "38626c8c-258e-4af3-8d56-17aef9d6ccce",
   "metadata": {},
   "source": [
    "### Get Data Info"
   ]
  },
  {
   "cell_type": "code",
   "execution_count": 10,
   "id": "b5d0856e-2dc5-438b-96fe-9a73b612ac3b",
   "metadata": {
    "tags": []
   },
   "outputs": [
    {
     "data": {
      "text/html": [
       "<div>\n",
       "<style scoped>\n",
       "    .dataframe tbody tr th:only-of-type {\n",
       "        vertical-align: middle;\n",
       "    }\n",
       "\n",
       "    .dataframe tbody tr th {\n",
       "        vertical-align: top;\n",
       "    }\n",
       "\n",
       "    .dataframe thead th {\n",
       "        text-align: right;\n",
       "    }\n",
       "</style>\n",
       "<table border=\"1\" class=\"dataframe\">\n",
       "  <thead>\n",
       "    <tr style=\"text-align: right;\">\n",
       "      <th></th>\n",
       "      <th>title</th>\n",
       "      <th>start_date</th>\n",
       "      <th>aud_sentiment</th>\n",
       "      <th>aud_score</th>\n",
       "      <th>crit_sentiment</th>\n",
       "      <th>crit_score</th>\n",
       "    </tr>\n",
       "  </thead>\n",
       "  <tbody>\n",
       "    <tr>\n",
       "      <th>0</th>\n",
       "      <td>The Woman King</td>\n",
       "      <td>Streaming Dec 13, 2022</td>\n",
       "      <td>positive</td>\n",
       "      <td>99</td>\n",
       "      <td>positive</td>\n",
       "      <td>94</td>\n",
       "    </tr>\n",
       "    <tr>\n",
       "      <th>1</th>\n",
       "      <td>Emily the Criminal</td>\n",
       "      <td>Streaming Oct 28, 2022</td>\n",
       "      <td>positive</td>\n",
       "      <td>79</td>\n",
       "      <td>positive</td>\n",
       "      <td>94</td>\n",
       "    </tr>\n",
       "    <tr>\n",
       "      <th>2</th>\n",
       "      <td>Leave No Trace</td>\n",
       "      <td>Streaming Sep 25, 2018</td>\n",
       "      <td>positive</td>\n",
       "      <td>80</td>\n",
       "      <td>positive</td>\n",
       "      <td>100</td>\n",
       "    </tr>\n",
       "    <tr>\n",
       "      <th>3</th>\n",
       "      <td>The Stranger</td>\n",
       "      <td>Streaming Oct 19, 2022</td>\n",
       "      <td>positive</td>\n",
       "      <td>67</td>\n",
       "      <td>positive</td>\n",
       "      <td>91</td>\n",
       "    </tr>\n",
       "    <tr>\n",
       "      <th>4</th>\n",
       "      <td>Glass Onion: A Knives Out Mystery</td>\n",
       "      <td>Streaming Dec 23, 2022</td>\n",
       "      <td>positive</td>\n",
       "      <td>92</td>\n",
       "      <td>positive</td>\n",
       "      <td>92</td>\n",
       "    </tr>\n",
       "  </tbody>\n",
       "</table>\n",
       "</div>"
      ],
      "text/plain": [
       "                               title              start_date aud_sentiment  \\\n",
       "0                     The Woman King  Streaming Dec 13, 2022      positive   \n",
       "1                 Emily the Criminal  Streaming Oct 28, 2022      positive   \n",
       "2                     Leave No Trace  Streaming Sep 25, 2018      positive   \n",
       "3                       The Stranger  Streaming Oct 19, 2022      positive   \n",
       "4  Glass Onion: A Knives Out Mystery  Streaming Dec 23, 2022      positive   \n",
       "\n",
       "  aud_score crit_sentiment crit_score  \n",
       "0        99       positive         94  \n",
       "1        79       positive         94  \n",
       "2        80       positive        100  \n",
       "3        67       positive         91  \n",
       "4        92       positive         92  "
      ]
     },
     "execution_count": 10,
     "metadata": {},
     "output_type": "execute_result"
    }
   ],
   "source": [
    "rotten_df.head()"
   ]
  },
  {
   "cell_type": "code",
   "execution_count": 11,
   "id": "ed5942ec-5568-4e74-8308-53010f363fac",
   "metadata": {
    "tags": []
   },
   "outputs": [
    {
     "name": "stdout",
     "output_type": "stream",
     "text": [
      "<class 'pandas.core.frame.DataFrame'>\n",
      "RangeIndex: 258 entries, 0 to 257\n",
      "Data columns (total 6 columns):\n",
      " #   Column          Non-Null Count  Dtype \n",
      "---  ------          --------------  ----- \n",
      " 0   title           258 non-null    object\n",
      " 1   start_date      258 non-null    object\n",
      " 2   aud_sentiment   258 non-null    object\n",
      " 3   aud_score       258 non-null    object\n",
      " 4   crit_sentiment  258 non-null    object\n",
      " 5   crit_score      258 non-null    object\n",
      "dtypes: object(6)\n",
      "memory usage: 12.2+ KB\n"
     ]
    }
   ],
   "source": [
    "rotten_df.info()"
   ]
  },
  {
   "cell_type": "code",
   "execution_count": 12,
   "id": "b7c818b0-ac56-4f1f-948b-037a444bd0d5",
   "metadata": {
    "tags": []
   },
   "outputs": [
    {
     "name": "stdout",
     "output_type": "stream",
     "text": [
      "Total number of data: 1548\n",
      "Total number of null values: 0 = 0.00% of data\n"
     ]
    }
   ],
   "source": [
    "# Print data info\n",
    "print('Total number of data:', rotten_df.shape[0]*rotten_df.shape[1])\n",
    "print('Total number of null values: {} = {:.2f}% of data'.format(rotten_df.isnull().sum().sum(),\n",
    "     (rotten_df.isnull().sum().sum()/rotten_df.shape[0]*rotten_df.shape[1])))"
   ]
  },
  {
   "cell_type": "markdown",
   "id": "2ae60af5-1f53-47d5-a347-51cfb90dba80",
   "metadata": {},
   "source": [
    "## Data Cleaning"
   ]
  },
  {
   "cell_type": "markdown",
   "id": "48a4eacf-ea79-4718-89ed-0c5c1bd70799",
   "metadata": {},
   "source": [
    "### Find '' Values and exclude them from the data"
   ]
  },
  {
   "cell_type": "code",
   "execution_count": 13,
   "id": "50e1e3fa-24aa-4027-a732-d43e4a011f60",
   "metadata": {
    "tags": []
   },
   "outputs": [
    {
     "data": {
      "text/html": [
       "<div>\n",
       "<style scoped>\n",
       "    .dataframe tbody tr th:only-of-type {\n",
       "        vertical-align: middle;\n",
       "    }\n",
       "\n",
       "    .dataframe tbody tr th {\n",
       "        vertical-align: top;\n",
       "    }\n",
       "\n",
       "    .dataframe thead th {\n",
       "        text-align: right;\n",
       "    }\n",
       "</style>\n",
       "<table border=\"1\" class=\"dataframe\">\n",
       "  <thead>\n",
       "    <tr style=\"text-align: right;\">\n",
       "      <th></th>\n",
       "      <th>title</th>\n",
       "      <th>start_date</th>\n",
       "      <th>aud_sentiment</th>\n",
       "      <th>aud_score</th>\n",
       "      <th>crit_sentiment</th>\n",
       "      <th>crit_score</th>\n",
       "    </tr>\n",
       "  </thead>\n",
       "  <tbody>\n",
       "    <tr>\n",
       "      <th>174</th>\n",
       "      <td>Disappearance at Clifton Hill</td>\n",
       "      <td>Streaming Feb 28, 2020</td>\n",
       "      <td></td>\n",
       "      <td></td>\n",
       "      <td>positive</td>\n",
       "      <td>76</td>\n",
       "    </tr>\n",
       "    <tr>\n",
       "      <th>237</th>\n",
       "      <td>Rolling Thunder Revue: A Bob Dylan Story by Ma...</td>\n",
       "      <td>Streaming Jun 12, 2019</td>\n",
       "      <td></td>\n",
       "      <td></td>\n",
       "      <td>positive</td>\n",
       "      <td>92</td>\n",
       "    </tr>\n",
       "  </tbody>\n",
       "</table>\n",
       "</div>"
      ],
      "text/plain": [
       "                                                 title  \\\n",
       "174                      Disappearance at Clifton Hill   \n",
       "237  Rolling Thunder Revue: A Bob Dylan Story by Ma...   \n",
       "\n",
       "                 start_date aud_sentiment aud_score crit_sentiment crit_score  \n",
       "174  Streaming Feb 28, 2020                               positive         76  \n",
       "237  Streaming Jun 12, 2019                               positive         92  "
      ]
     },
     "execution_count": 13,
     "metadata": {},
     "output_type": "execute_result"
    }
   ],
   "source": [
    "rotten_df.query('aud_score == \"\"')"
   ]
  },
  {
   "cell_type": "code",
   "execution_count": 14,
   "id": "681df098-2aa7-4f62-bc2c-a87d3945b26b",
   "metadata": {
    "tags": []
   },
   "outputs": [],
   "source": [
    "rotten_df = rotten_df.query('aud_score != \"\"').copy()"
   ]
  },
  {
   "cell_type": "code",
   "execution_count": 17,
   "id": "1a1be950-0c55-4449-b0e4-96467d7de0ea",
   "metadata": {
    "tags": []
   },
   "outputs": [],
   "source": [
    "# copy the dataframe to csv so I can use it later on without scraping again.\n",
    "rotten_df.to_csv('rotten_df.csv', index=False)"
   ]
  },
  {
   "cell_type": "markdown",
   "id": "8ba38a49-3a13-4038-842f-dd9b113b0270",
   "metadata": {},
   "source": [
    "### Dataframe from the csv file (created)"
   ]
  },
  {
   "cell_type": "code",
   "execution_count": 21,
   "id": "506134d6-9200-4cd1-adae-d863eba36a71",
   "metadata": {
    "tags": []
   },
   "outputs": [],
   "source": [
    "# read csv file back\n",
    "rotten_df = pd.read_csv('rotten_df.csv')"
   ]
  },
  {
   "cell_type": "markdown",
   "id": "a6655f99-cdb0-4e83-bd98-aa5d31a73574",
   "metadata": {},
   "source": [
    "### Change Data Type"
   ]
  },
  {
   "cell_type": "code",
   "execution_count": 22,
   "id": "5a6eca87-2bc6-4542-b843-1355b3c1ec0c",
   "metadata": {
    "tags": []
   },
   "outputs": [
    {
     "data": {
      "text/plain": [
       "0      Streaming Dec 13, 2022\n",
       "1      Streaming Oct 28, 2022\n",
       "2      Streaming Sep 25, 2018\n",
       "3      Streaming Oct 19, 2022\n",
       "4      Streaming Dec 23, 2022\n",
       "                ...          \n",
       "251    Streaming Apr 28, 2017\n",
       "252     Streaming Nov 7, 2017\n",
       "253    Streaming Aug 26, 2020\n",
       "254     Streaming Dec 4, 2018\n",
       "255    Streaming Jan 19, 2017\n",
       "Name: start_date, Length: 256, dtype: object"
      ]
     },
     "execution_count": 22,
     "metadata": {},
     "output_type": "execute_result"
    }
   ],
   "source": [
    "rotten_df['start_date']"
   ]
  },
  {
   "cell_type": "code",
   "execution_count": 23,
   "id": "90532588-17ad-453f-9e16-2db42ec64525",
   "metadata": {
    "tags": []
   },
   "outputs": [],
   "source": [
    "# Change start_date column to datetime\n",
    "rotten_df['start_date'] = rotten_df['start_date'].apply(lambda x: x.split('Streaming')[1])\n",
    "rotten_df['start_date'] = pd.to_datetime(rotten_df['start_date'])"
   ]
  },
  {
   "cell_type": "code",
   "execution_count": 24,
   "id": "35d4719c-e101-40da-8681-7673723cf8c2",
   "metadata": {
    "tags": []
   },
   "outputs": [],
   "source": [
    "# Change aud_score, crit_score to int\n",
    "rotten_df[['aud_score','crit_score']] = rotten_df[['aud_score','crit_score']].astype(int)"
   ]
  },
  {
   "cell_type": "code",
   "execution_count": 25,
   "id": "0ef4743f-25ae-4d94-8c03-af8791f6239c",
   "metadata": {
    "tags": []
   },
   "outputs": [
    {
     "name": "stdout",
     "output_type": "stream",
     "text": [
      "<class 'pandas.core.frame.DataFrame'>\n",
      "RangeIndex: 256 entries, 0 to 255\n",
      "Data columns (total 6 columns):\n",
      " #   Column          Non-Null Count  Dtype         \n",
      "---  ------          --------------  -----         \n",
      " 0   title           256 non-null    object        \n",
      " 1   start_date      256 non-null    datetime64[ns]\n",
      " 2   aud_sentiment   256 non-null    object        \n",
      " 3   aud_score       256 non-null    int64         \n",
      " 4   crit_sentiment  256 non-null    object        \n",
      " 5   crit_score      256 non-null    int64         \n",
      "dtypes: datetime64[ns](1), int64(2), object(3)\n",
      "memory usage: 12.1+ KB\n"
     ]
    }
   ],
   "source": [
    "rotten_df.info()"
   ]
  },
  {
   "cell_type": "markdown",
   "id": "d04e1596-ae45-4158-86ca-c41671018222",
   "metadata": {},
   "source": [
    "### Add month column"
   ]
  },
  {
   "cell_type": "code",
   "execution_count": 26,
   "id": "dcb19203-b826-467f-81d7-4bde5cb59926",
   "metadata": {
    "tags": []
   },
   "outputs": [
    {
     "data": {
      "text/html": [
       "<div>\n",
       "<style scoped>\n",
       "    .dataframe tbody tr th:only-of-type {\n",
       "        vertical-align: middle;\n",
       "    }\n",
       "\n",
       "    .dataframe tbody tr th {\n",
       "        vertical-align: top;\n",
       "    }\n",
       "\n",
       "    .dataframe thead th {\n",
       "        text-align: right;\n",
       "    }\n",
       "</style>\n",
       "<table border=\"1\" class=\"dataframe\">\n",
       "  <thead>\n",
       "    <tr style=\"text-align: right;\">\n",
       "      <th></th>\n",
       "      <th>title</th>\n",
       "      <th>start_date</th>\n",
       "      <th>aud_sentiment</th>\n",
       "      <th>aud_score</th>\n",
       "      <th>crit_sentiment</th>\n",
       "      <th>crit_score</th>\n",
       "    </tr>\n",
       "  </thead>\n",
       "  <tbody>\n",
       "    <tr>\n",
       "      <th>0</th>\n",
       "      <td>The Woman King</td>\n",
       "      <td>2022-12-13</td>\n",
       "      <td>positive</td>\n",
       "      <td>99</td>\n",
       "      <td>positive</td>\n",
       "      <td>94</td>\n",
       "    </tr>\n",
       "    <tr>\n",
       "      <th>1</th>\n",
       "      <td>Emily the Criminal</td>\n",
       "      <td>2022-10-28</td>\n",
       "      <td>positive</td>\n",
       "      <td>79</td>\n",
       "      <td>positive</td>\n",
       "      <td>94</td>\n",
       "    </tr>\n",
       "    <tr>\n",
       "      <th>2</th>\n",
       "      <td>Leave No Trace</td>\n",
       "      <td>2018-09-25</td>\n",
       "      <td>positive</td>\n",
       "      <td>80</td>\n",
       "      <td>positive</td>\n",
       "      <td>100</td>\n",
       "    </tr>\n",
       "    <tr>\n",
       "      <th>3</th>\n",
       "      <td>The Stranger</td>\n",
       "      <td>2022-10-19</td>\n",
       "      <td>positive</td>\n",
       "      <td>67</td>\n",
       "      <td>positive</td>\n",
       "      <td>91</td>\n",
       "    </tr>\n",
       "    <tr>\n",
       "      <th>4</th>\n",
       "      <td>Glass Onion: A Knives Out Mystery</td>\n",
       "      <td>2022-12-23</td>\n",
       "      <td>positive</td>\n",
       "      <td>92</td>\n",
       "      <td>positive</td>\n",
       "      <td>92</td>\n",
       "    </tr>\n",
       "  </tbody>\n",
       "</table>\n",
       "</div>"
      ],
      "text/plain": [
       "                               title start_date aud_sentiment  aud_score  \\\n",
       "0                     The Woman King 2022-12-13      positive         99   \n",
       "1                 Emily the Criminal 2022-10-28      positive         79   \n",
       "2                     Leave No Trace 2018-09-25      positive         80   \n",
       "3                       The Stranger 2022-10-19      positive         67   \n",
       "4  Glass Onion: A Knives Out Mystery 2022-12-23      positive         92   \n",
       "\n",
       "  crit_sentiment  crit_score  \n",
       "0       positive          94  \n",
       "1       positive          94  \n",
       "2       positive         100  \n",
       "3       positive          91  \n",
       "4       positive          92  "
      ]
     },
     "execution_count": 26,
     "metadata": {},
     "output_type": "execute_result"
    }
   ],
   "source": [
    "rotten_df.head()"
   ]
  },
  {
   "cell_type": "code",
   "execution_count": 27,
   "id": "26c2eb57-5d22-450b-99ba-6123dd31171a",
   "metadata": {
    "tags": []
   },
   "outputs": [],
   "source": [
    "# add year-month column from the start_date\n",
    "rotten_df['year_month'] = rotten_df['start_date'].dt.strftime('%Y-%m')\n",
    "rotten_df['month'] = rotten_df['start_date'].dt.month"
   ]
  },
  {
   "cell_type": "markdown",
   "id": "40e7a535-3663-4367-ba20-6dfcb9d8f3e4",
   "metadata": {},
   "source": [
    "## Perform EDA"
   ]
  },
  {
   "cell_type": "markdown",
   "id": "a8943b9f-af2c-4053-8b70-4488aa11c3d4",
   "metadata": {},
   "source": [
    "- Questions to ask\n",
    "\n",
    "1) How is the streaming date distributed among the data?\n",
    "2) How do critics and audience differ in giving out scores?\n",
    "3) What's the most popular titles? (by audience, and by critics)\n",
    "4) What's the relationship between sentiment and score?"
   ]
  },
  {
   "cell_type": "code",
   "execution_count": 28,
   "id": "63efd7ef-bb6f-402d-95f1-4bbfcb354b19",
   "metadata": {
    "tags": []
   },
   "outputs": [],
   "source": [
    "import matplotlib.pyplot as plt\n",
    "import seaborn as sns"
   ]
  },
  {
   "cell_type": "markdown",
   "id": "343e0ca9-ee38-451c-80f4-2000cb987c00",
   "metadata": {},
   "source": [
    "### When was the most popular time to release good Netflix movies?"
   ]
  },
  {
   "cell_type": "code",
   "execution_count": 29,
   "id": "0d77a750-b0a6-4893-9f5f-d11fe2302fce",
   "metadata": {
    "tags": []
   },
   "outputs": [],
   "source": [
    "# When did many good movies from Netflix came out?\n",
    "ym_cnt = rotten_df['year_month'].value_counts().reset_index()\\\n",
    "         .rename(columns={'index':'year_month','year_month':'count'})"
   ]
  },
  {
   "cell_type": "code",
   "execution_count": 30,
   "id": "8ad54a28-7a4e-4835-ad2c-360848528d2b",
   "metadata": {
    "tags": []
   },
   "outputs": [
    {
     "data": {
      "image/png": "[encoded data removed]",
      "text/plain": [
       "<Figure size 720x432 with 1 Axes>"
      ]
     },
     "metadata": {
      "needs_background": "light"
     },
     "output_type": "display_data"
    }
   ],
   "source": [
    "# Barchart with Top 10 dates with the most \"fresh\" Netflix movies\n",
    "\n",
    "f, ax = plt.subplots(1,1, figsize=(10,6))\n",
    "sns.barplot(y='year_month', x='count', palette= 'coolwarm', data=ym_cnt.head(10))\n",
    "ax.set_xlabel('# of movies released', fontsize=10)\n",
    "ax.set_ylabel('Year-Month', fontsize=10)\n",
    "ax.set_title('Top 10 Dates with good Netflix movies')\n",
    "plt.show()"
   ]
  },
  {
   "cell_type": "code",
   "execution_count": 31,
   "id": "b5bf94ef-363b-4ed3-8941-74227900f081",
   "metadata": {
    "tags": []
   },
   "outputs": [
    {
     "data": {
      "image/png": "[encoded data removed]",
      "text/plain": [
       "<Figure size 360x360 with 1 Axes>"
      ]
     },
     "metadata": {
      "needs_background": "light"
     },
     "output_type": "display_data"
    }
   ],
   "source": [
    "# Most popular month of release date among \"freseh\" Netflix movies\n",
    "sns.displot(rotten_df['month'], bins=12, color='firebrick', kde=True)\n",
    "plt.title('Number of movies released by month', fontsize=15)\n",
    "plt.show()"
   ]
  },
  {
   "cell_type": "markdown",
   "id": "05cfdc01-2fbc-400a-b1ab-8bf800af37b6",
   "metadata": {},
   "source": [
    "## How do audience and critics differ in giving out scores?"
   ]
  },
  {
   "cell_type": "code",
   "execution_count": 32,
   "id": "7186c0d9-e29a-4f4b-86e0-19c4583e8927",
   "metadata": {
    "tags": []
   },
   "outputs": [
    {
     "data": {
      "text/html": [
       "<div>\n",
       "<style scoped>\n",
       "    .dataframe tbody tr th:only-of-type {\n",
       "        vertical-align: middle;\n",
       "    }\n",
       "\n",
       "    .dataframe tbody tr th {\n",
       "        vertical-align: top;\n",
       "    }\n",
       "\n",
       "    .dataframe thead th {\n",
       "        text-align: right;\n",
       "    }\n",
       "</style>\n",
       "<table border=\"1\" class=\"dataframe\">\n",
       "  <thead>\n",
       "    <tr style=\"text-align: right;\">\n",
       "      <th></th>\n",
       "      <th>title</th>\n",
       "      <th>start_date</th>\n",
       "      <th>aud_sentiment</th>\n",
       "      <th>aud_score</th>\n",
       "      <th>crit_sentiment</th>\n",
       "      <th>crit_score</th>\n",
       "      <th>year_month</th>\n",
       "      <th>month</th>\n",
       "    </tr>\n",
       "  </thead>\n",
       "  <tbody>\n",
       "    <tr>\n",
       "      <th>0</th>\n",
       "      <td>The Woman King</td>\n",
       "      <td>2022-12-13</td>\n",
       "      <td>positive</td>\n",
       "      <td>99</td>\n",
       "      <td>positive</td>\n",
       "      <td>94</td>\n",
       "      <td>2022-12</td>\n",
       "      <td>12</td>\n",
       "    </tr>\n",
       "    <tr>\n",
       "      <th>1</th>\n",
       "      <td>Emily the Criminal</td>\n",
       "      <td>2022-10-28</td>\n",
       "      <td>positive</td>\n",
       "      <td>79</td>\n",
       "      <td>positive</td>\n",
       "      <td>94</td>\n",
       "      <td>2022-10</td>\n",
       "      <td>10</td>\n",
       "    </tr>\n",
       "    <tr>\n",
       "      <th>2</th>\n",
       "      <td>Leave No Trace</td>\n",
       "      <td>2018-09-25</td>\n",
       "      <td>positive</td>\n",
       "      <td>80</td>\n",
       "      <td>positive</td>\n",
       "      <td>100</td>\n",
       "      <td>2018-09</td>\n",
       "      <td>9</td>\n",
       "    </tr>\n",
       "    <tr>\n",
       "      <th>3</th>\n",
       "      <td>The Stranger</td>\n",
       "      <td>2022-10-19</td>\n",
       "      <td>positive</td>\n",
       "      <td>67</td>\n",
       "      <td>positive</td>\n",
       "      <td>91</td>\n",
       "      <td>2022-10</td>\n",
       "      <td>10</td>\n",
       "    </tr>\n",
       "    <tr>\n",
       "      <th>4</th>\n",
       "      <td>Glass Onion: A Knives Out Mystery</td>\n",
       "      <td>2022-12-23</td>\n",
       "      <td>positive</td>\n",
       "      <td>92</td>\n",
       "      <td>positive</td>\n",
       "      <td>92</td>\n",
       "      <td>2022-12</td>\n",
       "      <td>12</td>\n",
       "    </tr>\n",
       "  </tbody>\n",
       "</table>\n",
       "</div>"
      ],
      "text/plain": [
       "                               title start_date aud_sentiment  aud_score  \\\n",
       "0                     The Woman King 2022-12-13      positive         99   \n",
       "1                 Emily the Criminal 2022-10-28      positive         79   \n",
       "2                     Leave No Trace 2018-09-25      positive         80   \n",
       "3                       The Stranger 2022-10-19      positive         67   \n",
       "4  Glass Onion: A Knives Out Mystery 2022-12-23      positive         92   \n",
       "\n",
       "  crit_sentiment  crit_score year_month  month  \n",
       "0       positive          94    2022-12     12  \n",
       "1       positive          94    2022-10     10  \n",
       "2       positive         100    2018-09      9  \n",
       "3       positive          91    2022-10     10  \n",
       "4       positive          92    2022-12     12  "
      ]
     },
     "execution_count": 32,
     "metadata": {},
     "output_type": "execute_result"
    }
   ],
   "source": [
    "rotten_df.head()"
   ]
  },
  {
   "cell_type": "code",
   "execution_count": 33,
   "id": "1025f535-5277-472b-bcb7-88a8943b3704",
   "metadata": {
    "tags": []
   },
   "outputs": [
    {
     "data": {
      "text/plain": [
       "Text(0.5, 0.98, 'Score Distribution by Audience and Critics')"
      ]
     },
     "execution_count": 33,
     "metadata": {},
     "output_type": "execute_result"
    },
    {
     "data": {
      "image/png": "[encoded data removed]",
      "text/plain": [
       "<Figure size 1080x432 with 2 Axes>"
      ]
     },
     "metadata": {
      "needs_background": "light"
     },
     "output_type": "display_data"
    }
   ],
   "source": [
    "# Compare the distribution of scores between audience and critics\n",
    "aud_cnt = rotten_df.groupby('aud_score')['title'].count().reset_index()\n",
    "crit_cnt = rotten_df.groupby('crit_score')['title'].count().reset_index()\n",
    "\n",
    "f, ax = plt.subplots(1,2, figsize=(15,6))\n",
    "\n",
    "ax[0].plot(aud_cnt['aud_score'], aud_cnt['title'], color='darkslategray')\n",
    "ax[0].axvline(x=aud_cnt['aud_score'].mean(), linestyle='--', color='darkgreen', label='avg score')\n",
    "ax[0].set_xlabel('Audience Score')\n",
    "ax[0].set_ylabel('Count')\n",
    "ax[0].legend()\n",
    "\n",
    "ax[1].plot(crit_cnt['crit_score'], crit_cnt['title'], color='mediumpurple')\n",
    "ax[1].axvline(x=crit_cnt['crit_score'].mean(), linestyle='--', color='indigo', label='avg score')\n",
    "ax[1].set_xlabel('Critics Score')\n",
    "ax[1].legend()\n",
    "\n",
    "f.suptitle('Score Distribution by Audience and Critics', fontsize=20)"
   ]
  },
  {
   "cell_type": "markdown",
   "id": "f3f7e640-7fb8-416c-a7a4-7ccece34adcc",
   "metadata": {},
   "source": [
    "### What are some of the most popular titles by audience and critics?"
   ]
  },
  {
   "cell_type": "code",
   "execution_count": 42,
   "id": "b620604e-4eef-44c6-896c-20928fac25ad",
   "metadata": {
    "tags": []
   },
   "outputs": [
    {
     "data": {
      "text/plain": [
       "<AxesSubplot:>"
      ]
     },
     "execution_count": 42,
     "metadata": {},
     "output_type": "execute_result"
    },
    {
     "data": {
      "image/png": "[encoded data removed]",
      "text/plain": [
       "<Figure size 720x576 with 2 Axes>"
      ]
     },
     "metadata": {
      "needs_background": "light"
     },
     "output_type": "display_data"
    }
   ],
   "source": [
    "f, ax = plt.subplots(1,2, figsize=(10,8))\n",
    "sns.boxplot(aud_cnt['aud_score'], ax=ax[0])\n",
    "sns.boxplot(crit_cnt['crit_score'], ax=ax[1])"
   ]
  },
  {
   "cell_type": "code",
   "execution_count": 53,
   "id": "fc83aa80-a52d-40cc-bbab-f0c97b65d746",
   "metadata": {
    "tags": []
   },
   "outputs": [
    {
     "name": "stdout",
     "output_type": "stream",
     "text": [
      "70.0\n",
      "86.0\n",
      "88.0\n",
      "94.4\n"
     ]
    }
   ],
   "source": [
    "# Get the 80% of the score distribution\n",
    "print(np.percentile(aud_cnt['aud_score'], 50))\n",
    "print(np.percentile(crit_cnt['crit_score'], 50))\n",
    "print(np.percentile(aud_cnt['aud_score'], 80))\n",
    "print(np.percentile(crit_cnt['crit_score'], 80))"
   ]
  },
  {
   "cell_type": "code",
   "execution_count": 52,
   "id": "4f51ab4f-94f7-4029-8b21-e0c06e5a52b1",
   "metadata": {
    "tags": []
   },
   "outputs": [
    {
     "data": {
      "text/html": [
       "<div>\n",
       "<style scoped>\n",
       "    .dataframe tbody tr th:only-of-type {\n",
       "        vertical-align: middle;\n",
       "    }\n",
       "\n",
       "    .dataframe tbody tr th {\n",
       "        vertical-align: top;\n",
       "    }\n",
       "\n",
       "    .dataframe thead th {\n",
       "        text-align: right;\n",
       "    }\n",
       "</style>\n",
       "<table border=\"1\" class=\"dataframe\">\n",
       "  <thead>\n",
       "    <tr style=\"text-align: right;\">\n",
       "      <th></th>\n",
       "      <th>title</th>\n",
       "      <th>start_date</th>\n",
       "      <th>aud_sentiment</th>\n",
       "      <th>aud_score</th>\n",
       "      <th>crit_sentiment</th>\n",
       "      <th>crit_score</th>\n",
       "      <th>year_month</th>\n",
       "      <th>month</th>\n",
       "    </tr>\n",
       "  </thead>\n",
       "  <tbody>\n",
       "    <tr>\n",
       "      <th>0</th>\n",
       "      <td>The Woman King</td>\n",
       "      <td>2022-12-13</td>\n",
       "      <td>positive</td>\n",
       "      <td>99</td>\n",
       "      <td>positive</td>\n",
       "      <td>94</td>\n",
       "      <td>2022-12</td>\n",
       "      <td>12</td>\n",
       "    </tr>\n",
       "    <tr>\n",
       "      <th>1</th>\n",
       "      <td>Emily the Criminal</td>\n",
       "      <td>2022-10-28</td>\n",
       "      <td>positive</td>\n",
       "      <td>79</td>\n",
       "      <td>positive</td>\n",
       "      <td>94</td>\n",
       "      <td>2022-10</td>\n",
       "      <td>10</td>\n",
       "    </tr>\n",
       "    <tr>\n",
       "      <th>2</th>\n",
       "      <td>Leave No Trace</td>\n",
       "      <td>2018-09-25</td>\n",
       "      <td>positive</td>\n",
       "      <td>80</td>\n",
       "      <td>positive</td>\n",
       "      <td>100</td>\n",
       "      <td>2018-09</td>\n",
       "      <td>9</td>\n",
       "    </tr>\n",
       "    <tr>\n",
       "      <th>3</th>\n",
       "      <td>The Stranger</td>\n",
       "      <td>2022-10-19</td>\n",
       "      <td>positive</td>\n",
       "      <td>67</td>\n",
       "      <td>positive</td>\n",
       "      <td>91</td>\n",
       "      <td>2022-10</td>\n",
       "      <td>10</td>\n",
       "    </tr>\n",
       "    <tr>\n",
       "      <th>4</th>\n",
       "      <td>Glass Onion: A Knives Out Mystery</td>\n",
       "      <td>2022-12-23</td>\n",
       "      <td>positive</td>\n",
       "      <td>92</td>\n",
       "      <td>positive</td>\n",
       "      <td>92</td>\n",
       "      <td>2022-12</td>\n",
       "      <td>12</td>\n",
       "    </tr>\n",
       "  </tbody>\n",
       "</table>\n",
       "</div>"
      ],
      "text/plain": [
       "                               title start_date aud_sentiment  aud_score  \\\n",
       "0                     The Woman King 2022-12-13      positive         99   \n",
       "1                 Emily the Criminal 2022-10-28      positive         79   \n",
       "2                     Leave No Trace 2018-09-25      positive         80   \n",
       "3                       The Stranger 2022-10-19      positive         67   \n",
       "4  Glass Onion: A Knives Out Mystery 2022-12-23      positive         92   \n",
       "\n",
       "  crit_sentiment  crit_score year_month  month  \n",
       "0       positive          94    2022-12     12  \n",
       "1       positive          94    2022-10     10  \n",
       "2       positive         100    2018-09      9  \n",
       "3       positive          91    2022-10     10  \n",
       "4       positive          92    2022-12     12  "
      ]
     },
     "execution_count": 52,
     "metadata": {},
     "output_type": "execute_result"
    }
   ],
   "source": [
    "# Divide the data into popular, neutral, unpopular groups with 80% and higher as popular group & 50% and higher as neutral, below 50% as unpopular\n",
    "rotten_df.head()"
   ]
  },
  {
   "cell_type": "code",
   "execution_count": 55,
   "id": "ce30e210-b02d-4e90-8db2-852d2d5d5d26",
   "metadata": {
    "tags": []
   },
   "outputs": [],
   "source": [
    "# Create two new columns containing the populardity of the titles \n",
    "aud_bins = pd.cut(rotten_df['aud_score'], bins=[0,70,88,100], labels=['unpopular','neutral','popular'])\n",
    "rotten_df['aud_popularity'] = aud_bins\n",
    "\n",
    "crit_bins = pd.cut(rotten_df['crit_score'], bins=[0,86,94.4,100], labels=['unpopular','neutral','popular'])\n",
    "rotten_df['crit_popularity'] = crit_bins\n"
   ]
  },
  {
   "cell_type": "code",
   "execution_count": 56,
   "id": "382ec08c-3390-4a6f-980a-e7648da4b536",
   "metadata": {
    "tags": []
   },
   "outputs": [
    {
     "data": {
      "text/html": [
       "<div>\n",
       "<style scoped>\n",
       "    .dataframe tbody tr th:only-of-type {\n",
       "        vertical-align: middle;\n",
       "    }\n",
       "\n",
       "    .dataframe tbody tr th {\n",
       "        vertical-align: top;\n",
       "    }\n",
       "\n",
       "    .dataframe thead th {\n",
       "        text-align: right;\n",
       "    }\n",
       "</style>\n",
       "<table border=\"1\" class=\"dataframe\">\n",
       "  <thead>\n",
       "    <tr style=\"text-align: right;\">\n",
       "      <th></th>\n",
       "      <th>title</th>\n",
       "      <th>start_date</th>\n",
       "      <th>aud_sentiment</th>\n",
       "      <th>aud_score</th>\n",
       "      <th>crit_sentiment</th>\n",
       "      <th>crit_score</th>\n",
       "      <th>year_month</th>\n",
       "      <th>month</th>\n",
       "      <th>aud_popularity</th>\n",
       "      <th>crit_popularity</th>\n",
       "    </tr>\n",
       "  </thead>\n",
       "  <tbody>\n",
       "    <tr>\n",
       "      <th>0</th>\n",
       "      <td>The Woman King</td>\n",
       "      <td>2022-12-13</td>\n",
       "      <td>positive</td>\n",
       "      <td>99</td>\n",
       "      <td>positive</td>\n",
       "      <td>94</td>\n",
       "      <td>2022-12</td>\n",
       "      <td>12</td>\n",
       "      <td>popular</td>\n",
       "      <td>neutral</td>\n",
       "    </tr>\n",
       "    <tr>\n",
       "      <th>1</th>\n",
       "      <td>Emily the Criminal</td>\n",
       "      <td>2022-10-28</td>\n",
       "      <td>positive</td>\n",
       "      <td>79</td>\n",
       "      <td>positive</td>\n",
       "      <td>94</td>\n",
       "      <td>2022-10</td>\n",
       "      <td>10</td>\n",
       "      <td>neutral</td>\n",
       "      <td>neutral</td>\n",
       "    </tr>\n",
       "    <tr>\n",
       "      <th>2</th>\n",
       "      <td>Leave No Trace</td>\n",
       "      <td>2018-09-25</td>\n",
       "      <td>positive</td>\n",
       "      <td>80</td>\n",
       "      <td>positive</td>\n",
       "      <td>100</td>\n",
       "      <td>2018-09</td>\n",
       "      <td>9</td>\n",
       "      <td>neutral</td>\n",
       "      <td>popular</td>\n",
       "    </tr>\n",
       "    <tr>\n",
       "      <th>3</th>\n",
       "      <td>The Stranger</td>\n",
       "      <td>2022-10-19</td>\n",
       "      <td>positive</td>\n",
       "      <td>67</td>\n",
       "      <td>positive</td>\n",
       "      <td>91</td>\n",
       "      <td>2022-10</td>\n",
       "      <td>10</td>\n",
       "      <td>unpopular</td>\n",
       "      <td>neutral</td>\n",
       "    </tr>\n",
       "    <tr>\n",
       "      <th>4</th>\n",
       "      <td>Glass Onion: A Knives Out Mystery</td>\n",
       "      <td>2022-12-23</td>\n",
       "      <td>positive</td>\n",
       "      <td>92</td>\n",
       "      <td>positive</td>\n",
       "      <td>92</td>\n",
       "      <td>2022-12</td>\n",
       "      <td>12</td>\n",
       "      <td>popular</td>\n",
       "      <td>neutral</td>\n",
       "    </tr>\n",
       "  </tbody>\n",
       "</table>\n",
       "</div>"
      ],
      "text/plain": [
       "                               title start_date aud_sentiment  aud_score  \\\n",
       "0                     The Woman King 2022-12-13      positive         99   \n",
       "1                 Emily the Criminal 2022-10-28      positive         79   \n",
       "2                     Leave No Trace 2018-09-25      positive         80   \n",
       "3                       The Stranger 2022-10-19      positive         67   \n",
       "4  Glass Onion: A Knives Out Mystery 2022-12-23      positive         92   \n",
       "\n",
       "  crit_sentiment  crit_score year_month  month aud_popularity crit_popularity  \n",
       "0       positive          94    2022-12     12        popular         neutral  \n",
       "1       positive          94    2022-10     10        neutral         neutral  \n",
       "2       positive         100    2018-09      9        neutral         popular  \n",
       "3       positive          91    2022-10     10      unpopular         neutral  \n",
       "4       positive          92    2022-12     12        popular         neutral  "
      ]
     },
     "execution_count": 56,
     "metadata": {},
     "output_type": "execute_result"
    }
   ],
   "source": [
    "rotten_df.head()"
   ]
  },
  {
   "cell_type": "markdown",
   "id": "fd6463d1-3789-4ebc-8328-9846ad2487f2",
   "metadata": {},
   "source": [
    "### Explore the relationship between audience score and critics score"
   ]
  },
  {
   "cell_type": "code",
   "execution_count": 87,
   "id": "833b3df0-2670-4c0e-8128-44a84844ef9b",
   "metadata": {
    "tags": []
   },
   "outputs": [
    {
     "data": {
      "text/plain": [
       "<matplotlib.legend.Legend at 0x7f8312620970>"
      ]
     },
     "execution_count": 87,
     "metadata": {},
     "output_type": "execute_result"
    },
    {
     "data": {
      "image/png": "[encoded data removed]",
      "text/plain": [
       "<Figure size 576x432 with 1 Axes>"
      ]
     },
     "metadata": {
      "needs_background": "light"
     },
     "output_type": "display_data"
    }
   ],
   "source": [
    "f, ax = plt.subplots(1,1, figsize=(8,6))\n",
    "ax.set_title('The relationship between audience score and critics score', fontsize=15)\n",
    "sns.scatterplot(x='aud_score', y='crit_score', data=rotten_df, hue='aud_popularity')\n",
    "plt.legend(bbox_to_anchor=(1.05, 1), loc='upper left', borderaxespad=0., title='Popularity', frameon=True, prop={'size': 10},\n",
    "           title_fontsize=10, markerscale=0.6, labelspacing=0.6, handletextpad=0.5, handlelength=0.8)"
   ]
  },
  {
   "cell_type": "markdown",
   "id": "0dac8f51-c194-4023-bb54-41150647002c",
   "metadata": {},
   "source": [
    "### What are some titles popular among audience but not popular among critics?"
   ]
  },
  {
   "cell_type": "code",
   "execution_count": 150,
   "id": "82adb84f-1499-4f7a-ab3f-bfb68764a599",
   "metadata": {
    "tags": []
   },
   "outputs": [],
   "source": [
    "aud_preferred = rotten_df.query('aud_popularity==\"popular\" and crit_popularity!=\"popular\"')[['title','aud_score','crit_score']].reset_index(drop=True)\n",
    "crit_preferred = rotten_df.query('crit_popularity==\"popular\" and aud_popularity!=\"popular\"')[['title','aud_score','crit_score']].reset_index(drop=True)"
   ]
  },
  {
   "cell_type": "code",
   "execution_count": 151,
   "id": "4f5d396c-27d8-4289-995e-b3ab751a0b0a",
   "metadata": {
    "tags": []
   },
   "outputs": [
    {
     "data": {
      "text/html": [
       "<div>\n",
       "<style scoped>\n",
       "    .dataframe tbody tr th:only-of-type {\n",
       "        vertical-align: middle;\n",
       "    }\n",
       "\n",
       "    .dataframe tbody tr th {\n",
       "        vertical-align: top;\n",
       "    }\n",
       "\n",
       "    .dataframe thead th {\n",
       "        text-align: right;\n",
       "    }\n",
       "</style>\n",
       "<table border=\"1\" class=\"dataframe\">\n",
       "  <thead>\n",
       "    <tr style=\"text-align: right;\">\n",
       "      <th></th>\n",
       "      <th>title</th>\n",
       "      <th>aud_score</th>\n",
       "      <th>crit_score</th>\n",
       "    </tr>\n",
       "  </thead>\n",
       "  <tbody>\n",
       "    <tr>\n",
       "      <th>11</th>\n",
       "      <td>National Lampoon's Animal House</td>\n",
       "      <td>89</td>\n",
       "      <td>91</td>\n",
       "    </tr>\n",
       "    <tr>\n",
       "      <th>16</th>\n",
       "      <td>Philomena</td>\n",
       "      <td>89</td>\n",
       "      <td>91</td>\n",
       "    </tr>\n",
       "    <tr>\n",
       "      <th>22</th>\n",
       "      <td>Rumble: The Indians Who Rocked the World</td>\n",
       "      <td>89</td>\n",
       "      <td>91</td>\n",
       "    </tr>\n",
       "    <tr>\n",
       "      <th>9</th>\n",
       "      <td>The Imitation Game</td>\n",
       "      <td>91</td>\n",
       "      <td>90</td>\n",
       "    </tr>\n",
       "    <tr>\n",
       "      <th>21</th>\n",
       "      <td>Adam Sandler: 100% Fresh</td>\n",
       "      <td>91</td>\n",
       "      <td>90</td>\n",
       "    </tr>\n",
       "    <tr>\n",
       "      <th>5</th>\n",
       "      <td>The Harder They Fall</td>\n",
       "      <td>93</td>\n",
       "      <td>88</td>\n",
       "    </tr>\n",
       "    <tr>\n",
       "      <th>6</th>\n",
       "      <td>The Bad Guys</td>\n",
       "      <td>93</td>\n",
       "      <td>88</td>\n",
       "    </tr>\n",
       "  </tbody>\n",
       "</table>\n",
       "</div>"
      ],
      "text/plain": [
       "                                       title  aud_score  crit_score\n",
       "11           National Lampoon's Animal House         89          91\n",
       "16                                 Philomena         89          91\n",
       "22  Rumble: The Indians Who Rocked the World         89          91\n",
       "9                         The Imitation Game         91          90\n",
       "21                  Adam Sandler: 100% Fresh         91          90\n",
       "5                       The Harder They Fall         93          88\n",
       "6                               The Bad Guys         93          88"
      ]
     },
     "execution_count": 151,
     "metadata": {},
     "output_type": "execute_result"
    }
   ],
   "source": [
    "# need to adjust scatterplot labels due to duplicated values below\n",
    "aud_preferred[aud_preferred.duplicated(['aud_score','crit_score'], keep=False)].sort_values(by='aud_score')"
   ]
  },
  {
   "cell_type": "markdown",
   "id": "d546f105-e936-4f11-8cf6-a82c96128781",
   "metadata": {},
   "source": [
    "### Scatter plot of popular titles by audience and critics"
   ]
  },
  {
   "cell_type": "code",
   "execution_count": 154,
   "id": "a551b71f-a1e0-4a41-87f0-76859996ce07",
   "metadata": {
    "tags": []
   },
   "outputs": [
    {
     "data": {
      "image/png": "[encoded data removed]",
      "text/plain": [
       "<Figure size 1440x720 with 2 Axes>"
      ]
     },
     "metadata": {
      "needs_background": "light"
     },
     "output_type": "display_data"
    }
   ],
   "source": [
    "from adjustText import adjust_text\n",
    "\n",
    "f, ax = plt.subplots(1,2, figsize=(20,10))\n",
    "\n",
    "# plot 1st scatterplot (popular among audience)\n",
    "sns.scatterplot(x='aud_score', y='crit_score', data=aud_preferred, alpha=0.7, ax=ax[0])\n",
    "\n",
    "# add labels to the scatterplot\n",
    "texts1 = []\n",
    "for i, label in enumerate(aud_preferred['title']):\n",
    "    texts1.append(ax[0].text(aud_preferred.loc[i, 'aud_score'], aud_preferred.loc[i, 'crit_score'], label))\n",
    "\n",
    "# adjust label positions \n",
    "adjust_text(texts1, ax=ax[0])\n",
    "\n",
    "# Set x, ylabel\n",
    "ax[0].set_xlabel('Audience Score')\n",
    "ax[0].set_ylabel('Critics Score')\n",
    "\n",
    "# Set title\n",
    "ax[0].set_title('Popular titles only among audience', fontsize=15, pad=10)\n",
    "\n",
    "# plot 2nd scatterplot (popular amdong critics)\n",
    "sns.scatterplot(x='aud_score', y='crit_score', data=crit_preferred, alpha=0.7, ax=ax[1])\n",
    "\n",
    "# add labels to the scatterplot\n",
    "texts2 = []\n",
    "for i, label in enumerate(crit_preferred['title']):\n",
    "    texts2.append(ax[1].text(crit_preferred.loc[i, 'aud_score'], crit_preferred.loc[i, 'crit_score'], label))\n",
    "\n",
    "# adjust label positions \n",
    "adjust_text(texts2, ax=ax[1])\n",
    "\n",
    "# Set x, ylabel\n",
    "ax[1].set_xlabel('Audience Score')\n",
    "ax[1].set_ylabel('')\n",
    "\n",
    "# Set title\n",
    "ax[1].set_title('Popular titles only among critics', fontsize=15, pad=10)\n",
    "\n",
    "plt.show()"
   ]
  }
 ],
 "metadata": {
  "kernelspec": {
   "display_name": "Python 3 (ipykernel)",
   "language": "python",
   "name": "python3"
  },
  "language_info": {
   "codemirror_mode": {
    "name": "ipython",
    "version": 3
   },
   "file_extension": ".py",
   "mimetype": "text/x-python",
   "name": "python",
   "nbconvert_exporter": "python",
   "pygments_lexer": "ipython3",
   "version": "3.9.7"
  }
 },
 "nbformat": 4,
 "nbformat_minor": 5
}
